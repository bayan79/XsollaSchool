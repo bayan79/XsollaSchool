{
 "cells": [
  {
   "cell_type": "code",
   "execution_count": 1,
   "metadata": {},
   "outputs": [],
   "source": [
    "import matplotlib.pyplot as plt\n",
    "import pandas as pd\n",
    "import numpy as np\n",
    "\n",
    "\n",
    "from sklearn.ensemble import RandomForestClassifier\n",
    "from sklearn.model_selection import cross_validate , train_test_split , StratifiedShuffleSplit\n",
    "from sklearn import linear_model, metrics\n",
    "from sklearn.linear_model import SGDClassifier as SGD"
   ]
  },
  {
   "cell_type": "code",
   "execution_count": 2,
   "metadata": {},
   "outputs": [],
   "source": [
    "train_directory = \"data/train.csv\"\n",
    "\n",
    "train = pd.read_csv(train_directory, header=0 )\n",
    "\n",
    "train['y'] = [1 if y == 'yes' else 0 for y in train['y']]"
   ]
  },
  {
   "cell_type": "code",
   "execution_count": 3,
   "metadata": {},
   "outputs": [
    {
     "data": {
      "text/html": [
       "<div>\n",
       "<style scoped>\n",
       "    .dataframe tbody tr th:only-of-type {\n",
       "        vertical-align: middle;\n",
       "    }\n",
       "\n",
       "    .dataframe tbody tr th {\n",
       "        vertical-align: top;\n",
       "    }\n",
       "\n",
       "    .dataframe thead th {\n",
       "        text-align: right;\n",
       "    }\n",
       "</style>\n",
       "<table border=\"1\" class=\"dataframe\">\n",
       "  <thead>\n",
       "    <tr style=\"text-align: right;\">\n",
       "      <th></th>\n",
       "      <th>age</th>\n",
       "      <th>duration</th>\n",
       "      <th>campaign</th>\n",
       "      <th>pdays</th>\n",
       "      <th>previous</th>\n",
       "      <th>emp.var.rate</th>\n",
       "      <th>cons.price.idx</th>\n",
       "      <th>cons.conf.idx</th>\n",
       "      <th>euribor3m</th>\n",
       "      <th>nr.employed</th>\n",
       "      <th>y</th>\n",
       "    </tr>\n",
       "  </thead>\n",
       "  <tbody>\n",
       "    <tr>\n",
       "      <th>age</th>\n",
       "      <td>1.000000</td>\n",
       "      <td>0.039014</td>\n",
       "      <td>-0.006501</td>\n",
       "      <td>-0.040607</td>\n",
       "      <td>0.044000</td>\n",
       "      <td>-0.011676</td>\n",
       "      <td>0.008798</td>\n",
       "      <td>0.086147</td>\n",
       "      <td>-0.009824</td>\n",
       "      <td>-0.036183</td>\n",
       "      <td>0.053425</td>\n",
       "    </tr>\n",
       "    <tr>\n",
       "      <th>duration</th>\n",
       "      <td>0.039014</td>\n",
       "      <td>1.000000</td>\n",
       "      <td>-0.097477</td>\n",
       "      <td>-0.045726</td>\n",
       "      <td>0.025395</td>\n",
       "      <td>-0.028857</td>\n",
       "      <td>0.022067</td>\n",
       "      <td>-0.036543</td>\n",
       "      <td>-0.033147</td>\n",
       "      <td>-0.046760</td>\n",
       "      <td>0.433596</td>\n",
       "    </tr>\n",
       "    <tr>\n",
       "      <th>campaign</th>\n",
       "      <td>-0.006501</td>\n",
       "      <td>-0.097477</td>\n",
       "      <td>1.000000</td>\n",
       "      <td>0.058314</td>\n",
       "      <td>-0.090741</td>\n",
       "      <td>0.177055</td>\n",
       "      <td>0.145429</td>\n",
       "      <td>0.007416</td>\n",
       "      <td>0.159980</td>\n",
       "      <td>0.162461</td>\n",
       "      <td>-0.079928</td>\n",
       "    </tr>\n",
       "    <tr>\n",
       "      <th>pdays</th>\n",
       "      <td>-0.040607</td>\n",
       "      <td>-0.045726</td>\n",
       "      <td>0.058314</td>\n",
       "      <td>1.000000</td>\n",
       "      <td>-0.590461</td>\n",
       "      <td>0.271116</td>\n",
       "      <td>0.046450</td>\n",
       "      <td>-0.093359</td>\n",
       "      <td>0.303687</td>\n",
       "      <td>0.390379</td>\n",
       "      <td>-0.344608</td>\n",
       "    </tr>\n",
       "    <tr>\n",
       "      <th>previous</th>\n",
       "      <td>0.044000</td>\n",
       "      <td>0.025395</td>\n",
       "      <td>-0.090741</td>\n",
       "      <td>-0.590461</td>\n",
       "      <td>1.000000</td>\n",
       "      <td>-0.409944</td>\n",
       "      <td>-0.141692</td>\n",
       "      <td>-0.054761</td>\n",
       "      <td>-0.458122</td>\n",
       "      <td>-0.520039</td>\n",
       "      <td>0.268134</td>\n",
       "    </tr>\n",
       "    <tr>\n",
       "      <th>emp.var.rate</th>\n",
       "      <td>-0.011676</td>\n",
       "      <td>-0.028857</td>\n",
       "      <td>0.177055</td>\n",
       "      <td>0.271116</td>\n",
       "      <td>-0.409944</td>\n",
       "      <td>1.000000</td>\n",
       "      <td>0.747513</td>\n",
       "      <td>0.219751</td>\n",
       "      <td>0.969968</td>\n",
       "      <td>0.892328</td>\n",
       "      <td>-0.259834</td>\n",
       "    </tr>\n",
       "    <tr>\n",
       "      <th>cons.price.idx</th>\n",
       "      <td>0.008798</td>\n",
       "      <td>0.022067</td>\n",
       "      <td>0.145429</td>\n",
       "      <td>0.046450</td>\n",
       "      <td>-0.141692</td>\n",
       "      <td>0.747513</td>\n",
       "      <td>1.000000</td>\n",
       "      <td>0.063948</td>\n",
       "      <td>0.645568</td>\n",
       "      <td>0.450870</td>\n",
       "      <td>-0.065774</td>\n",
       "    </tr>\n",
       "    <tr>\n",
       "      <th>cons.conf.idx</th>\n",
       "      <td>0.086147</td>\n",
       "      <td>-0.036543</td>\n",
       "      <td>0.007416</td>\n",
       "      <td>-0.093359</td>\n",
       "      <td>-0.054761</td>\n",
       "      <td>0.219751</td>\n",
       "      <td>0.063948</td>\n",
       "      <td>1.000000</td>\n",
       "      <td>0.300212</td>\n",
       "      <td>0.130593</td>\n",
       "      <td>0.034768</td>\n",
       "    </tr>\n",
       "    <tr>\n",
       "      <th>euribor3m</th>\n",
       "      <td>-0.009824</td>\n",
       "      <td>-0.033147</td>\n",
       "      <td>0.159980</td>\n",
       "      <td>0.303687</td>\n",
       "      <td>-0.458122</td>\n",
       "      <td>0.969968</td>\n",
       "      <td>0.645568</td>\n",
       "      <td>0.300212</td>\n",
       "      <td>1.000000</td>\n",
       "      <td>0.940434</td>\n",
       "      <td>-0.278375</td>\n",
       "    </tr>\n",
       "    <tr>\n",
       "      <th>nr.employed</th>\n",
       "      <td>-0.036183</td>\n",
       "      <td>-0.046760</td>\n",
       "      <td>0.162461</td>\n",
       "      <td>0.390379</td>\n",
       "      <td>-0.520039</td>\n",
       "      <td>0.892328</td>\n",
       "      <td>0.450870</td>\n",
       "      <td>0.130593</td>\n",
       "      <td>0.940434</td>\n",
       "      <td>1.000000</td>\n",
       "      <td>-0.332281</td>\n",
       "    </tr>\n",
       "    <tr>\n",
       "      <th>y</th>\n",
       "      <td>0.053425</td>\n",
       "      <td>0.433596</td>\n",
       "      <td>-0.079928</td>\n",
       "      <td>-0.344608</td>\n",
       "      <td>0.268134</td>\n",
       "      <td>-0.259834</td>\n",
       "      <td>-0.065774</td>\n",
       "      <td>0.034768</td>\n",
       "      <td>-0.278375</td>\n",
       "      <td>-0.332281</td>\n",
       "      <td>1.000000</td>\n",
       "    </tr>\n",
       "  </tbody>\n",
       "</table>\n",
       "</div>"
      ],
      "text/plain": [
       "                     age  duration  campaign     pdays  previous  \\\n",
       "age             1.000000  0.039014 -0.006501 -0.040607  0.044000   \n",
       "duration        0.039014  1.000000 -0.097477 -0.045726  0.025395   \n",
       "campaign       -0.006501 -0.097477  1.000000  0.058314 -0.090741   \n",
       "pdays          -0.040607 -0.045726  0.058314  1.000000 -0.590461   \n",
       "previous        0.044000  0.025395 -0.090741 -0.590461  1.000000   \n",
       "emp.var.rate   -0.011676 -0.028857  0.177055  0.271116 -0.409944   \n",
       "cons.price.idx  0.008798  0.022067  0.145429  0.046450 -0.141692   \n",
       "cons.conf.idx   0.086147 -0.036543  0.007416 -0.093359 -0.054761   \n",
       "euribor3m      -0.009824 -0.033147  0.159980  0.303687 -0.458122   \n",
       "nr.employed    -0.036183 -0.046760  0.162461  0.390379 -0.520039   \n",
       "y               0.053425  0.433596 -0.079928 -0.344608  0.268134   \n",
       "\n",
       "                emp.var.rate  cons.price.idx  cons.conf.idx  euribor3m  \\\n",
       "age                -0.011676        0.008798       0.086147  -0.009824   \n",
       "duration           -0.028857        0.022067      -0.036543  -0.033147   \n",
       "campaign            0.177055        0.145429       0.007416   0.159980   \n",
       "pdays               0.271116        0.046450      -0.093359   0.303687   \n",
       "previous           -0.409944       -0.141692      -0.054761  -0.458122   \n",
       "emp.var.rate        1.000000        0.747513       0.219751   0.969968   \n",
       "cons.price.idx      0.747513        1.000000       0.063948   0.645568   \n",
       "cons.conf.idx       0.219751        0.063948       1.000000   0.300212   \n",
       "euribor3m           0.969968        0.645568       0.300212   1.000000   \n",
       "nr.employed         0.892328        0.450870       0.130593   0.940434   \n",
       "y                  -0.259834       -0.065774       0.034768  -0.278375   \n",
       "\n",
       "                nr.employed         y  \n",
       "age               -0.036183  0.053425  \n",
       "duration          -0.046760  0.433596  \n",
       "campaign           0.162461 -0.079928  \n",
       "pdays              0.390379 -0.344608  \n",
       "previous          -0.520039  0.268134  \n",
       "emp.var.rate       0.892328 -0.259834  \n",
       "cons.price.idx     0.450870 -0.065774  \n",
       "cons.conf.idx      0.130593  0.034768  \n",
       "euribor3m          0.940434 -0.278375  \n",
       "nr.employed        1.000000 -0.332281  \n",
       "y                 -0.332281  1.000000  "
      ]
     },
     "execution_count": 3,
     "metadata": {},
     "output_type": "execute_result"
    }
   ],
   "source": [
    "train.corr()"
   ]
  },
  {
   "cell_type": "code",
   "execution_count": 4,
   "metadata": {},
   "outputs": [],
   "source": [
    "\n",
    "# exclude 'nr.employed' & 'euribor3m' \n",
    "# cause correlation between \n",
    "# 'nr.employed' & 'euribor3m' & 'emp.var.rate' is too HIGH (~.9)\n",
    "train = train.drop((['nr.employed', 'euribor3m']), axis=1)"
   ]
  },
  {
   "cell_type": "markdown",
   "metadata": {},
   "source": [
    "## Выбор факторов:\n",
    "    1) Создать модель со всеми факторами\n",
    "    2) Высчитать значимость факторов в модели\n",
    "    3) На наиболее значимых факторах построить новую модель\n"
   ]
  },
  {
   "cell_type": "code",
   "execution_count": 5,
   "metadata": {},
   "outputs": [],
   "source": [
    "# represent categorical columns to indicators\n",
    "categorical_columns = [c for c in train.columns if train[c].dtype.name == 'object']\n",
    "numerical_columns   = [c for c in train.columns if train[c].dtype.name != 'object']\n",
    "\n",
    "full_train_cats = pd.get_dummies(train[categorical_columns])\n",
    "\n",
    "train = pd.concat((train[numerical_columns], full_train_cats), axis=1)\n",
    "train = pd.DataFrame(train, dtype=float)"
   ]
  },
  {
   "cell_type": "code",
   "execution_count": 6,
   "metadata": {},
   "outputs": [],
   "source": [
    "X = train.drop(('y'), axis=1)\n",
    "y = train['y']"
   ]
  },
  {
   "cell_type": "code",
   "execution_count": 7,
   "metadata": {},
   "outputs": [],
   "source": [
    "classifier = RandomForestClassifier(n_estimators=100)"
   ]
  },
  {
   "cell_type": "code",
   "execution_count": 8,
   "metadata": {},
   "outputs": [],
   "source": [
    "train_data, test_data, train_labels, test_labels = train_test_split(X, y, \n",
    "                                                                                     test_size = 0.2)"
   ]
  },
  {
   "cell_type": "code",
   "execution_count": 9,
   "metadata": {},
   "outputs": [
    {
     "data": {
      "text/plain": [
       "RandomForestClassifier(bootstrap=True, class_weight=None, criterion='gini',\n",
       "                       max_depth=None, max_features='auto', max_leaf_nodes=None,\n",
       "                       min_impurity_decrease=0.0, min_impurity_split=None,\n",
       "                       min_samples_leaf=1, min_samples_split=2,\n",
       "                       min_weight_fraction_leaf=0.0, n_estimators=100,\n",
       "                       n_jobs=None, oob_score=False, random_state=None,\n",
       "                       verbose=0, warm_start=False)"
      ]
     },
     "execution_count": 9,
     "metadata": {},
     "output_type": "execute_result"
    }
   ],
   "source": [
    "classifier.fit(train_data , train_labels)"
   ]
  },
  {
   "cell_type": "code",
   "execution_count": 10,
   "metadata": {},
   "outputs": [
    {
     "name": "stdout",
     "output_type": "stream",
     "text": [
      "0.0 0.09302325581395349\n"
     ]
    }
   ],
   "source": [
    "err_train = np.mean(train_labels != classifier.predict(train_data))\n",
    "err_test = np.mean(test_labels != classifier.predict(test_data))\n",
    "print(err_train, err_test)"
   ]
  },
  {
   "cell_type": "code",
   "execution_count": 11,
   "metadata": {},
   "outputs": [],
   "source": [
    "# get feature importences\n",
    "importances = classifier.feature_importances_\n",
    "indices = np.argsort(importances)[::-1]"
   ]
  },
  {
   "cell_type": "code",
   "execution_count": 12,
   "metadata": {},
   "outputs": [
    {
     "data": {
      "image/png": "[encoded data removed]",
      "text/plain": [
       "<Figure size 576x576 with 1 Axes>"
      ]
     },
     "metadata": {
      "needs_background": "light"
     },
     "output_type": "display_data"
    }
   ],
   "source": [
    "# model features impotances graphic\n",
    "columns = X.columns\n",
    "d_first = 58\n",
    "plt.figure(figsize=(8, 8))\n",
    "plt.title(\"Feature importances\")\n",
    "plt.bar(range(d_first), importances[indices[:d_first]], align='center')\n",
    "plt.xticks(range(d_first), np.array(columns)[indices[:d_first]], rotation=90)\n",
    "plt.xlim([-1, d_first])\n",
    "plt.show()"
   ]
  },
  {
   "cell_type": "code",
   "execution_count": 14,
   "metadata": {},
   "outputs": [],
   "source": [
    "# choose important features\n",
    "features_count = 10 # top from graphic \"Feature importances\"\n",
    "selected_features = X.columns[indices[:features_count]]"
   ]
  },
  {
   "cell_type": "code",
   "execution_count": 15,
   "metadata": {},
   "outputs": [
    {
     "name": "stdout",
     "output_type": "stream",
     "text": [
      "0.0 0.06976744186046512\n"
     ]
    }
   ],
   "source": [
    "# make new model\n",
    "X_selected = train[selected_features]\n",
    "train_data_selected, test_data_selected, train_labels_selected, test_labels_selected = train_test_split(X_selected, y, test_size = 0.2)\n",
    "\n",
    "classifier_selected = RandomForestClassifier(n_estimators=100)\n",
    "classifier_selected.fit(train_data_selected, train_labels_selected)\n",
    "\n",
    "err_train_selected = np.mean(train_labels_selected != classifier_selected.predict(train_data_selected))\n",
    "err_test_selected = np.mean(test_labels_selected != classifier_selected.predict(test_data_selected))\n",
    "\n",
    "print(err_train_selected, err_test_selected)"
   ]
  },
  {
   "cell_type": "code",
   "execution_count": 16,
   "metadata": {},
   "outputs": [
    {
     "name": "stdout",
     "output_type": "stream",
     "text": [
      "ROC AUC:  0.782051282051282\n",
      "Cross validation avg(5):  0.8979844961240311\n"
     ]
    }
   ],
   "source": [
    "# new model roc_auc and cross_valid(sss)\n",
    "pred_labels = classifier_selected.predict(test_data_selected)\n",
    "\n",
    "roc_auc = metrics.roc_auc_score(test_labels_selected, pred_labels)\n",
    "print(\"ROC AUC: \", roc_auc)\n",
    "\n",
    "sss = StratifiedShuffleSplit(n_splits=5, test_size=0.2)\n",
    "scores = cross_validate(classifier_selected, X_selected, y=y, cv=sss)['test_score']\n",
    "\n",
    "print(\"Cross validation avg(5): \", sum(scores)/5)"
   ]
  },
  {
   "cell_type": "code",
   "execution_count": 17,
   "metadata": {},
   "outputs": [
    {
     "name": "stdout",
     "output_type": "stream",
     "text": [
      "ROC AUC:  0.6622673065735893\n",
      "Cross validation avg(5):  0.9001550387596898\n"
     ]
    }
   ],
   "source": [
    "# full model roc_auc and cross_valid(sss)\n",
    "pred_labels_full = classifier.predict(test_data)\n",
    "\n",
    "roc_auc_full = metrics.roc_auc_score(test_labels, pred_labels_full)\n",
    "print(\"ROC AUC: \", roc_auc_full)\n",
    "\n",
    "sss_full = StratifiedShuffleSplit(n_splits=5, test_size=0.2)\n",
    "scores_full = cross_validate(classifier, X, y=y, cv=sss_full)['test_score']\n",
    "\n",
    "print(\"Cross validation avg(5): \", sum(scores_full)/5)"
   ]
  },
  {
   "cell_type": "markdown",
   "metadata": {},
   "source": [
    "### Действия:\n",
    "    1) Избавиться полностью/частично от выбросов\n",
    "\n",
    "    2) Поэкспериментировать с глубиной, количеством деревьев  и т. д.\n",
    "\n",
    "    3) Узнать больше о выборе и формировании факторов для модели(например, в pdays 95%+ значений = 999, выглядит подозрительно, но я не знаю, что с этим делать)"
   ]
  },
  {
   "cell_type": "code",
   "execution_count": null,
   "metadata": {},
   "outputs": [],
   "source": []
  }
 ],
 "metadata": {
  "kernelspec": {
   "display_name": "Python 3",
   "language": "python",
   "name": "python3"
  },
  "language_info": {
   "codemirror_mode": {
    "name": "ipython",
    "version": 3
   },
   "file_extension": ".py",
   "mimetype": "text/x-python",
   "name": "python",
   "nbconvert_exporter": "python",
   "pygments_lexer": "ipython3",
   "version": "3.7.2"
  }
 },
 "nbformat": 4,
 "nbformat_minor": 2
}
