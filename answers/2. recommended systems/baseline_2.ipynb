{
 "cells": [
  {
   "cell_type": "code",
   "execution_count": 1,
   "metadata": {},
   "outputs": [],
   "source": [
    "import pickle\n",
    "import numpy as np"
   ]
  },
  {
   "cell_type": "code",
   "execution_count": 2,
   "metadata": {},
   "outputs": [],
   "source": [
    "ratings = pickle.load(open('items_10000_matrix.pickle', 'rb'), encoding='iso-8859-1')"
   ]
  },
  {
   "cell_type": "code",
   "execution_count": 3,
   "metadata": {},
   "outputs": [
    {
     "data": {
      "text/plain": [
       "scipy.sparse.csr.csr_matrix"
      ]
     },
     "execution_count": 3,
     "metadata": {},
     "output_type": "execute_result"
    }
   ],
   "source": [
    "type(ratings)"
   ]
  },
  {
   "cell_type": "code",
   "execution_count": 4,
   "metadata": {},
   "outputs": [],
   "source": [
    "# ratings = ratings.toarray()"
   ]
  },
  {
   "cell_type": "code",
   "execution_count": 5,
   "metadata": {},
   "outputs": [
    {
     "data": {
      "text/plain": [
       "(71869, 10000)"
      ]
     },
     "execution_count": 5,
     "metadata": {},
     "output_type": "execute_result"
    }
   ],
   "source": [
    "ratings.shape"
   ]
  },
  {
   "cell_type": "markdown",
   "metadata": {},
   "source": [
    "*ratings* -  np.array состоящий из нулей и единиц, где каждая строка соответсвует пользователю, а каждая колонка - книге.  \n",
    "1 - на пересечении строки i колонки j значит, что пользователь i прочитал книгу j. 0 - пользователь i не читал книгу j."
   ]
  },
  {
   "cell_type": "markdown",
   "metadata": {},
   "source": [
    "# Part 1"
   ]
  },
  {
   "cell_type": "markdown",
   "metadata": {},
   "source": [
    "### Task 1. Найти самую популярную книгу."
   ]
  },
  {
   "cell_type": "code",
   "execution_count": 6,
   "metadata": {},
   "outputs": [
    {
     "name": "stdout",
     "output_type": "stream",
     "text": [
      "most popular book = 20\n"
     ]
    }
   ],
   "source": [
    "most_popular_book = ratings.sum(axis=0).argmax()\n",
    "print('most popular book = {}'.format(most_popular_book))"
   ]
  },
  {
   "cell_type": "markdown",
   "metadata": {},
   "source": [
    "### Task 2. Найти пользователя со второй по величине библиотекой."
   ]
  },
  {
   "cell_type": "code",
   "execution_count": 7,
   "metadata": {},
   "outputs": [
    {
     "name": "stdout",
     "output_type": "stream",
     "text": [
      "user_id with the second biggest library = 69648\n"
     ]
    }
   ],
   "source": [
    "second_biggest_library = np.asscalar(ratings.sum(axis=1).argsort(axis=0)[::-1][1])\n",
    "print('user_id with the second biggest library = {}'.format(second_biggest_library))"
   ]
  },
  {
   "cell_type": "markdown",
   "metadata": {},
   "source": [
    "### Task 3. Найти среднее и медиану размера библиотеки."
   ]
  },
  {
   "cell_type": "code",
   "execution_count": 8,
   "metadata": {},
   "outputs": [
    {
     "name": "stdout",
     "output_type": "stream",
     "text": [
      "mean = 2.266693567463023\n",
      "median = 2\n"
     ]
    }
   ],
   "source": [
    "mean = np.mean(ratings.sum(axis=1))\n",
    "print('mean = {}'.format(mean))\n",
    "\n",
    "median = int(np.median(ratings.sum(axis=1), axis=0))\n",
    "print('median = {}'.format(median))"
   ]
  },
  {
   "cell_type": "markdown",
   "metadata": {},
   "source": [
    "### Task 4. Найти медиану размера библиоткеи у пользователей, которые прочитали книгу номер с id 100."
   ]
  },
  {
   "cell_type": "code",
   "execution_count": 9,
   "metadata": {},
   "outputs": [
    {
     "name": "stdout",
     "output_type": "stream",
     "text": [
      "Median number of books of users who read the book with id 100 = 3\n"
     ]
    }
   ],
   "source": [
    "median_number = int(np.median(ratings[ratings.getcol(100).nonzero()[0]].sum(axis=1), axis=0))\n",
    "print('Median number of books of users who read the book with id 100 = {}'.format(median_number))"
   ]
  },
  {
   "cell_type": "markdown",
   "metadata": {},
   "source": [
    "# Part 2"
   ]
  },
  {
   "cell_type": "markdown",
   "metadata": {},
   "source": [
    "### Task 1. Похожие книги.\n",
    "1. Найди 20 наиболее похожих книг для книги с id = 100. В качестве меры похожести используй cosine similarity. Используй наиболее быстрый вариант подсчета.\n",
    "  \n",
    "$$cosine\\ similarity = \\frac{A\\cdot B}{||A||\\ ||B||} = \\frac{\\sum_{i=1}^{n} A_iB_i}{\\sqrt{\\sum_{i=1}^{n}A_i^2}\\sqrt{\\sum_{i=1}^{n}B_i^2}}$$  \n",
    "  \n",
    "В качестве ответа верни список кортежей, где каждый кортеж представляет собой пару (book_id, similarity)."
   ]
  },
  {
   "cell_type": "code",
   "execution_count": 10,
   "metadata": {},
   "outputs": [
    {
     "name": "stdout",
     "output_type": "stream",
     "text": [
      "Answer: \n",
      "[(5863, 0.2672612419124244), (5819, 0.2672612419124244), (5134, 0.1889822365046136), (5440, 0.1336306209562122), (3940, 0.1336306209562122), (2370, 0.1336306209562122), (3468, 0.1091089451179962), (5546, 0.08451542547285165), (1495, 0.06482037235521644), (214, 0.06482037235521644), (6, 0.048795003647426664), (528, 0.0445435403187374), (251, 0.03479445003196105), (836, 0.031943828249996996), (426, 0.03065696697424829), (312, 0.030261376633440123), (446, 0.025141822757713452), (73, 0.021262162778128115), (191, 0.016671298226202138), (76, 0.01566713146512808)]\n",
      "Wall time: 110 ms\n"
     ]
    }
   ],
   "source": [
    "%%time\n",
    "from math import sqrt\n",
    "COMP_BOOK = 100\n",
    "aim = ratings.getcol(COMP_BOOK)\n",
    "\n",
    "#users that have COMP_BOOK\n",
    "users_COMP_BOOK = ratings[aim.nonzero()[0]]\n",
    "\n",
    "#     b1 bComp | cos \n",
    "#u1    1   0   |  =0\n",
    "#u2    0   0   |  =0\n",
    "#u3    0   1   |  =0\n",
    "#u4    1   1   |  >0 => \\\n",
    "#u5    1   1   |  >0 =>  > 3, count this in sums\n",
    "#u6    1   1   |  >0 => /\n",
    "#---------------\n",
    "#total 4   4 => count this in total_sums\n",
    "\n",
    "sums = users_COMP_BOOK.sum(axis=0)\n",
    "total_sums = ratings[:,sums.nonzero()[1]].sum(axis=0).getA1()\n",
    "# print(total_sums)\n",
    "\n",
    "# count sum_i(Ai*Bi)\n",
    "res_count = sums[:,sums.nonzero()[1]].getA1()\n",
    "# print(res_count)\n",
    "\n",
    "# book_ids\n",
    "res_books = sums.nonzero()[1]\n",
    "# print(res_books)\n",
    "res_list = []\n",
    "\n",
    "# count cos.sim.\n",
    "for idx, val in enumerate(res_books):\n",
    "    res_list.append((val, res_count[idx]/sqrt(total_sums[idx]*aim.size)))\n",
    "    \n",
    "# sort desc and take first 20 exclude COMP_BOOK (has cos.sim.=1.0) \n",
    "res_sample = sorted(res_list, key=lambda y: y[1])[::-1][1:21]\n",
    "print(\"Answer: \")\n",
    "print(res_sample)"
   ]
  },
  {
   "cell_type": "markdown",
   "metadata": {
    "collapsed": true
   },
   "source": [
    "# Part 3"
   ]
  },
  {
   "cell_type": "markdown",
   "metadata": {},
   "source": [
    "### Task 1. Матрица похожих книг (топ-20)."
   ]
  },
  {
   "cell_type": "markdown",
   "metadata": {},
   "source": [
    "Создать матрицу похожих книг (матрица 10000 x 10000) использую метрику *cosine similarity*. В каждоый строке оставить только топ 20 самых похожих. Лучше написать функцию которая на вход получает матрицу рейтингов на выходе матрица похожих книг. Эту фунцкцию можно будет использовать в следующем задании."
   ]
  },
  {
   "cell_type": "code",
   "execution_count": 12,
   "metadata": {},
   "outputs": [],
   "source": [
    "from math import sqrt\n",
    "from scipy.sparse import lil_matrix\n",
    "\n",
    "def compute_sim_matrix(ratings):\n",
    "    cols_count = ratings.shape[1]\n",
    "    cossim_matrix = lil_matrix((cols_count, cols_count))\n",
    "    \n",
    "    total_sums = ratings.sum(axis=0).getA1()\n",
    "    \n",
    "    res_list = []\n",
    "    for col_idx in range(cols_count):\n",
    "        aim = ratings.getcol(col_idx)\n",
    "        if aim.size == 0:\n",
    "            continue;\n",
    "        \n",
    "        users_aim_book = ratings[aim.nonzero()[0]]\n",
    "\n",
    "        sums = users_aim_book.sum(axis=0)\n",
    "        res_count = sums[:,sums.nonzero()[1]].getA1()\n",
    "        res_books = sums.nonzero()[1]\n",
    "        \n",
    "        res_list.clear()\n",
    "        for idx, val in enumerate(res_books):\n",
    "            res_list.append((val, res_count[idx]/sqrt(total_sums[val]*aim.size)))\n",
    "\n",
    "        res_sample = sorted(res_list, key=lambda y: y[1])[::-1][:20]\n",
    "        for (ibook_id, icossim) in res_sample:\n",
    "            cossim_matrix[col_idx, ibook_id] = icossim\n",
    "    \n",
    "    return cossim_matrix"
   ]
  },
  {
   "cell_type": "markdown",
   "metadata": {},
   "source": [
    "### Task 2. Оценить рекомендательную систему."
   ]
  },
  {
   "cell_type": "markdown",
   "metadata": {},
   "source": [
    "Оценить качество рекомендательной системы, основанной на матрице похожих книг, использую метрики **precision** и **recall**. Рекомендации должны получаться путем умножения матрицы похожих книг на вектор пользователя.\n",
    "  \n",
    "**precison** - кол-во книг которые попали пользователю в рекомендации и он их действительно добавил делить на кол-во рекомендованных книг.\n",
    "  \n",
    "**recall** - кол-во книг которые попали пользователю в рекомендации и он их действительно добавил делить на кол-во книг добавленных пользователем. \n",
    "  \n",
    "Метрики считать на 20 самых лучших рекомендациях для каждого пользователя."
   ]
  },
  {
   "cell_type": "code",
   "execution_count": 13,
   "metadata": {},
   "outputs": [],
   "source": [
    "cossim_matrix = compute_sim_matrix(ratings)"
   ]
  },
  {
   "cell_type": "code",
   "execution_count": 14,
   "metadata": {},
   "outputs": [
    {
     "name": "stdout",
     "output_type": "stream",
     "text": [
      "162895\n",
      "precison: 0.9978009727173607\n",
      "recall: 0.9999386145299408\n",
      "Wall time: 1min 29s\n"
     ]
    }
   ],
   "source": [
    "%%time\n",
    "import random as rnd\n",
    "from scipy.sparse import lil_matrix\n",
    "users_rec = ratings.dot(cossim_matrix).tolil()\n",
    "users_bitmap = lil_matrix(users_rec.shape)\n",
    "\n",
    "# set threshold, if user_rec[ibook] > threshold: ibook is recommend\n",
    "t = 0.7\n",
    "for i in range(users_rec.shape[0]):\n",
    "    best_20 = sorted(users_rec.getrow(i).nonzero()[1], key=lambda x: users_rec[i, x])[::-1][:20]\n",
    "    for j in best_20:\n",
    "        if users_rec[i, j] > t:\n",
    "            users_bitmap[i, j] = 1\n",
    "\n",
    "TP = np.where((ratings + users_bitmap).data==2)[0].__len__()\n",
    "print(TP)\n",
    "            \n",
    "precison = TP/users_bitmap.sum()\n",
    "print('precison:', precison)\n",
    "\n",
    "recall = TP/ratings.sum()\n",
    "print('recall:', recall)"
   ]
  },
  {
   "cell_type": "code",
   "execution_count": null,
   "metadata": {},
   "outputs": [],
   "source": []
  }
 ],
 "metadata": {
  "kernelspec": {
   "display_name": "Python 3",
   "language": "python",
   "name": "python3"
  },
  "language_info": {
   "codemirror_mode": {
    "name": "ipython",
    "version": 3
   },
   "file_extension": ".py",
   "mimetype": "text/x-python",
   "name": "python",
   "nbconvert_exporter": "python",
   "pygments_lexer": "ipython3",
   "version": "3.7.2"
  }
 },
 "nbformat": 4,
 "nbformat_minor": 1
}
